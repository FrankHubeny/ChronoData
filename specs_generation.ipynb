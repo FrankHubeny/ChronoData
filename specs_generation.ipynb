{
 "cells": [
  {
   "cell_type": "code",
   "execution_count": null,
   "id": "fe2d6939-8352-413a-8787-1ccd5328d3ed",
   "metadata": {},
   "outputs": [],
   "source": [
    "# Generate gedcom7.py specifications\n",
    "\n",
    "Store the GEDCOM verson 7.0 specifications in a dictionary format from yaml files.\n",
    "\n",
    "The specification was obtained from the [GEDCOM-registeries](https://github.com/FamilySearch/GEDCOM-registries)\n",
    "made available under an Apache 2.0 license.\n",
    "\n",
    "The names of the dictionaries are based on the directories in this registry.  Each yaml file\n",
    "in the directory is read into a dictionary which is then added to a dictionary named after\n",
    "the directory.\n",
    "\n",
    "The following dataclasses are available.  Each item in the dataclass corresponds to a\n",
    "single yaml file.\n",
    "- [Calendar](#Calendar) corresponding to yaml files in the calendar directory.\n",
    "- [DataType](#DataType) corresponding to yaml files in the data-type directory.\n",
    "- [Enumeration](#Enumeration) corresponding to yaml files in the enumeration directory.\n",
    "- [EnumerationSet](#EnumerationSet) corresponding to yaml files in the enumeration-set directory.\n",
    "- [Month](#Month) corresponding to yaml files in the month directory.\n",
    "- [Structure](#Structure) corresponding to yaml files in the structure/standard directory.\n",
    "- [ExtensionStructure](#ExtensionStructure) corresponding to yaml files in the structure/extenion directory.\n",
    "- [Uri](#Uri) corresponding to yaml files in the uri directory.\n",
    "\n",
    "Reference:\n",
    "- [GEDCOM-registeries](https://github.com/FamilySearch/GEDCOM-registries)"
   ]
  },
  {
   "cell_type": "markdown",
   "id": "5fc82382-7c14-46df-8b4f-a876601aab25",
   "metadata": {},
   "source": [
    "## Definitions"
   ]
  },
  {
   "cell_type": "markdown",
   "id": "03f31b0f-dcbb-4140-9c89-b821dc2057eb",
   "metadata": {},
   "source": [
    "<a id='Calendar'></a>\n",
    "## Calendar"
   ]
  },
  {
   "cell_type": "code",
   "execution_count": null,
   "id": "70f0a629-2d74-4504-a13e-eb3aa9644b7b",
   "metadata": {},
   "outputs": [],
   "source": [
    "from genedata.prep import Convert\n",
    "print(Convert.calendar('C:/Users/huben/projects/ChronoData/ChronoData/genedata/GEDCOM-registeries/v7/'))"
   ]
  },
  {
   "cell_type": "markdown",
   "id": "303673e8-8eda-4165-90ed-7ba884c901b4",
   "metadata": {},
   "source": [
    "<a id='DataType'></a>\n",
    "## DataType"
   ]
  },
  {
   "cell_type": "code",
   "execution_count": null,
   "id": "dca3392c-acc8-4177-9adc-b16299a75024",
   "metadata": {},
   "outputs": [],
   "source": [
    "from genedata.prep import Convert\n",
    "print(Convert.datatype('C:/Users/huben/projects/ChronoData/ChronoData/genedata/GEDCOM-registeries/v7'))"
   ]
  },
  {
   "cell_type": "markdown",
   "id": "368e26f8-e7c2-4b4b-8578-1932c7dbf0a7",
   "metadata": {},
   "source": [
    "<a id='Enumeration'></a>\n",
    "## Enumeration"
   ]
  },
  {
   "cell_type": "code",
   "execution_count": null,
   "id": "14b22f6e-92f5-4fa3-9f73-c0cf57e9edca",
   "metadata": {},
   "outputs": [],
   "source": [
    "from genedata.prep import Convert\n",
    "print(Convert.enumeration('C:/Users/huben/projects/ChronoData/ChronoData/genedata/GEDCOM-registeries/v7/'))"
   ]
  },
  {
   "cell_type": "markdown",
   "id": "c8e998b6-141c-4d42-9180-0d2ed0207972",
   "metadata": {},
   "source": [
    "<a id='EnumerationSet'></a>\n",
    "## EnumerationSet"
   ]
  },
  {
   "cell_type": "code",
   "execution_count": null,
   "id": "caf723fd-de52-4e1c-8519-9f6d7a1f7fb5",
   "metadata": {},
   "outputs": [],
   "source": [
    "from genedata.prep import Convert\n",
    "print(Convert.enumerationset('C:/Users/huben/projects/ChronoData/ChronoData/genedata/GEDCOM-registeries/v7/'))"
   ]
  },
  {
   "cell_type": "markdown",
   "id": "a7c8e902-5404-4f12-9fb7-052fb2982f28",
   "metadata": {},
   "source": [
    "<a id='Month'></a>\n",
    "## Month"
   ]
  },
  {
   "cell_type": "code",
   "execution_count": null,
   "id": "e29c40fa-b379-43de-b0e1-f3b5173eaa90",
   "metadata": {},
   "outputs": [],
   "source": [
    "from genedata.prep import Convert\n",
    "print(Convert.month('C:/Users/huben/projects/ChronoData/ChronoData/genedata/GEDCOM-registeries/v7/'))"
   ]
  },
  {
   "cell_type": "markdown",
   "id": "f5bdeb3d-5b46-414a-94d3-11f33cbcf199",
   "metadata": {},
   "source": [
    "<a id='Structure'></a>\n",
    "## Structure (Standard)"
   ]
  },
  {
   "cell_type": "code",
   "execution_count": null,
   "id": "2370cc69-3f68-4fae-81bc-4db1d69841b6",
   "metadata": {},
   "outputs": [],
   "source": [
    "from genedata.prep import Convert\n",
    "print(Convert.structure(\"C:/Users/huben/projects/ChronoData/ChronoData/genedata/GEDCOM-registeries/v7/\"))"
   ]
  },
  {
   "cell_type": "markdown",
   "id": "7c1c040d-3f22-479f-9ab4-2e8545b58744",
   "metadata": {},
   "source": [
    "<a id='StructureExtension'></a>\n",
    "## Structure (Extension)"
   ]
  },
  {
   "cell_type": "code",
   "execution_count": null,
   "id": "cae885c7-2a5d-4e4a-948e-5ee2251e1c99",
   "metadata": {},
   "outputs": [],
   "source": [
    "from genedata.prep import Convert\n",
    "print(Convert.structure_extension('C:/Users/huben/projects/ChronoData/ChronoData/genedata/GEDCOM-registeries/v7'))"
   ]
  },
  {
   "cell_type": "markdown",
   "id": "e329151a-df15-4e87-a308-a99b8267cb0a",
   "metadata": {},
   "source": [
    "<a id='Uri'></a>\n",
    "## Uri"
   ]
  },
  {
   "cell_type": "code",
   "execution_count": null,
   "id": "1b5eae77-527c-4468-a554-1e2f8fbb656c",
   "metadata": {},
   "outputs": [],
   "source": [
    "from genedata.prep import Convert\n",
    "print(Convert.uri('C:/Users/huben/projects/ChronoData/ChronoData/genedata/GEDCOM-registeries/v7/'))"
   ]
  },
  {
   "cell_type": "markdown",
   "id": "8f5f022f-b488-45be-b3f8-6cc3a5207cb0",
   "metadata": {},
   "source": [
    "## Build All"
   ]
  },
  {
   "cell_type": "code",
   "execution_count": null,
   "id": "0303c94b-91e7-4f6e-9a1d-85c79e0cbf05",
   "metadata": {},
   "outputs": [],
   "source": [
    "from genedata.prep import Convert\n",
    "source = 'https://github.com/FamilySearch/GEDCOM-registries'\n",
    "version = '7.0'\n",
    "url = 'C:/Users/huben/projects/ChronoData/ChronoData/genedata/GEDCOM-registeries/v7/'\n",
    "print(Convert.build_all(source, version, url))"
   ]
  }
 ],
 "metadata": {
  "kernelspec": {
   "display_name": "Python 3 (ipykernel)",
   "language": "python",
   "name": "python3"
  },
  "language_info": {
   "codemirror_mode": {
    "name": "ipython",
    "version": 3
   },
   "file_extension": ".py",
   "mimetype": "text/x-python",
   "name": "python",
   "nbconvert_exporter": "python",
   "pygments_lexer": "ipython3",
   "version": "3.13.2"
  }
 },
 "nbformat": 4,
 "nbformat_minor": 5
}
