{
 "cells": [
  {
   "cell_type": "markdown",
   "id": "db14a2a7-16fb-4520-b6a2-3a85c71c19af",
   "metadata": {},
   "source": [
    "# Utilities"
   ]
  },
  {
   "cell_type": "code",
   "execution_count": 1,
   "id": "3ed8a716-3555-46ae-92c0-067986483d3e",
   "metadata": {},
   "outputs": [
    {
     "ename": "ModuleNotFoundError",
     "evalue": "No module named 'genedata'",
     "output_type": "error",
     "traceback": [
      "\u001b[1;31m---------------------------------------------------------------------------\u001b[0m",
      "\u001b[1;31mModuleNotFoundError\u001b[0m                       Traceback (most recent call last)",
      "Cell \u001b[1;32mIn[1], line 1\u001b[0m\n\u001b[1;32m----> 1\u001b[0m \u001b[38;5;28;01mfrom\u001b[39;00m \u001b[38;5;21;01mgenedata\u001b[39;00m\u001b[38;5;21;01m.\u001b[39;00m\u001b[38;5;21;01mstore\u001b[39;00m \u001b[38;5;28;01mimport\u001b[39;00m TagYaml\n\u001b[0;32m      3\u001b[0m t \u001b[38;5;241m=\u001b[39m TagYaml\u001b[38;5;241m.\u001b[39mget(url\u001b[38;5;241m=\u001b[39m\u001b[38;5;124m'\u001b[39m\u001b[38;5;124mhttps://gedcom.io/terms/v7/AGE\u001b[39m\u001b[38;5;124m'\u001b[39m)\n\u001b[0;32m      4\u001b[0m \u001b[38;5;28mprint\u001b[39m(t\u001b[38;5;241m.\u001b[39mcode())\n",
      "\u001b[1;31mModuleNotFoundError\u001b[0m: No module named 'genedata'"
     ]
    }
   ],
   "source": [
    "from genedata.store import TagYaml\n",
    "\n",
    "t = TagYaml.get(url='https://gedcom.io/terms/v7/AGE')\n",
    "print(t.code())"
   ]
  },
  {
   "cell_type": "code",
   "execution_count": null,
   "id": "fed2d5f1-0b79-4e81-9c58-4ad520b7f29b",
   "metadata": {},
   "outputs": [],
   "source": []
  }
 ],
 "metadata": {
  "kernelspec": {
   "display_name": "Python 3 (ipykernel)",
   "language": "python",
   "name": "python3"
  },
  "language_info": {
   "codemirror_mode": {
    "name": "ipython",
    "version": 3
   },
   "file_extension": ".py",
   "mimetype": "text/x-python",
   "name": "python",
   "nbconvert_exporter": "python",
   "pygments_lexer": "ipython3",
   "version": "3.13.2"
  }
 },
 "nbformat": 4,
 "nbformat_minor": 5
}
