{
 "cells": [
  {
   "cell_type": "markdown",
   "id": "2ed4b56e-4eb6-4f78-872c-d48a9346db93",
   "metadata": {},
   "source": [
    "# Example FamilySearch GEDCOM Files\n",
    "\n",
    "The goal of this notebook is to generate each of the example files.\n",
    "If there are problems with the files bug reports will be created.\n",
    "\n",
    "https://gedcom.io/tools/#example-familysearch-gedcom-70-files\n",
    "\n",
    "1. [Age](#Age)\n",
    "2. [Escapes](#Escapes)\n",
    "3. [Extension-Record](#ExtensionRecord)\n",
    "4. [Extensions](#Extensions)\n",
    "5. [Lang](#Lang)\n",
    "6. [Filename-1](#Filename1)\n",
    "7. [Long-URL](#LongURL)\n",
    "8. [Maximal-70](#Maximal70)\n",
    "9. [Maximal-70-GDZ](#Maximal70GDZ)\n",
    "10. [Minimal-70](#Minimal70)\n",
    "11. [Minimal-70-GDZ](#Minimal70GDZ)\n",
    "12. [Notes-1](#Notes1)\n",
    "13. [Obje-1](#Obje1)\n",
    "14. [Remarriage1](#Remarriage1)\n",
    "15. [Remarriage2](#Remarriage2)\n",
    "16. [Same-Sex-Marriage](#SameSexMarriage)\n",
    "17. [VoidPtr](#VoidPtr)\n",
    "18. [Xref](#Xref)"
   ]
  },
  {
   "cell_type": "markdown",
   "id": "7586d22e-75f1-4ff8-a4d6-c88d18811216",
   "metadata": {},
   "source": [
    "<a id=\"Age\"></a>\n",
    "## Age Example\n",
    "\n",
    "[Example File](https://gedcom.io/testfiles/gedcom70/age.ged)"
   ]
  },
  {
   "cell_type": "code",
   "execution_count": 1,
   "id": "9a127b78-1c90-4454-b2ab-1589ef25a630",
   "metadata": {},
   "outputs": [
    {
     "ename": "ModuleNotFoundError",
     "evalue": "No module named 'genedata'",
     "output_type": "error",
     "traceback": [
      "\u001b[1;31m---------------------------------------------------------------------------\u001b[0m",
      "\u001b[1;31mModuleNotFoundError\u001b[0m                       Traceback (most recent call last)",
      "Cell \u001b[1;32mIn[1], line 1\u001b[0m\n\u001b[1;32m----> 1\u001b[0m \u001b[38;5;28;01mfrom\u001b[39;00m \u001b[38;5;21;01mgenedata\u001b[39;00m\u001b[38;5;21;01m.\u001b[39;00m\u001b[38;5;21;01mbuild\u001b[39;00m \u001b[38;5;28;01mimport\u001b[39;00m Genealogy\n\u001b[0;32m      2\u001b[0m \u001b[38;5;28;01mfrom\u001b[39;00m \u001b[38;5;21;01mgenedata\u001b[39;00m\u001b[38;5;21;01m.\u001b[39;00m\u001b[38;5;21;01mstore\u001b[39;00m \u001b[38;5;28;01mimport\u001b[39;00m Age, Header, Individual, IndividualEvent, Note\n\u001b[0;32m      3\u001b[0m \u001b[38;5;28;01mfrom\u001b[39;00m \u001b[38;5;21;01mgenedata\u001b[39;00m\u001b[38;5;21;01m.\u001b[39;00m\u001b[38;5;21;01mgedcom\u001b[39;00m \u001b[38;5;28;01mimport\u001b[39;00m Tag\n",
      "\u001b[1;31mModuleNotFoundError\u001b[0m: No module named 'genedata'"
     ]
    }
   ],
   "source": [
    "from genedata.build import Genealogy\n",
    "from genedata.store import Age, Header, Individual, IndividualEvent, Note\n",
    "from genedata.gedcom import Tag\n",
    "\n",
    "g = Genealogy('testing')\n",
    "i1 = g.individual_xref()\n",
    "i2 = g.individual_xref()\n",
    "\n",
    "gedcom = ''.join(\n",
    "    [\n",
    "        Header(note=Note('This file is intended to provide coverage of parts of the specification and does not contain meaningful historical or genealogical data.')).ged(),\n",
    "        Individual(xref=i1, events=IndividualEvent(Tag.CHR, age=Age(year=0))).ged(),\n",
    "    ]\n",
    ").split('/n')\n",
    "print(gedcom)"
   ]
  },
  {
   "cell_type": "markdown",
   "id": "58568361-790c-408c-816d-652c40a3d4ad",
   "metadata": {},
   "source": [
    "<a id=\"Excapes\"></a>\n",
    "## Escapes Example\n",
    "\n",
    "[Example File](https://gedcom.io/testfiles/gedcom70/escapes.ged)"
   ]
  },
  {
   "cell_type": "markdown",
   "id": "33c5d035-594e-4229-86a6-271bcd904cd8",
   "metadata": {},
   "source": [
    "<a id=\"ExtensionRecord\"></a>\n",
    "## Extension-Record Example\n",
    "\n",
    "[Example File](https://gedcom.io/testfiles/gedcom70/extension-record.ged)"
   ]
  },
  {
   "cell_type": "markdown",
   "id": "79abfdb9-294e-42b4-a035-353f385d5b0e",
   "metadata": {},
   "source": [
    "<a id=\"Extensions\"></a>\n",
    "## Extensions Example\n",
    "\n",
    "[Example File](https://gedcom.io/testfiles/gedcom70/extensions.ged)"
   ]
  },
  {
   "cell_type": "markdown",
   "id": "8ad909b0-71d3-4819-842d-e7a9778d2de1",
   "metadata": {},
   "source": [
    "<a id=\"Lang\"></a>\n",
    "## Lang Example\n",
    "\n",
    "[Example File](https://gedcom.io/testfiles/gedcom70/Lang.ged)"
   ]
  },
  {
   "cell_type": "markdown",
   "id": "9ec41c00-1c87-41e5-a753-4c5aae47d4e7",
   "metadata": {},
   "source": [
    "<a id=\"Filename1\"></a>\n",
    "## Filename-1 Example\n",
    "\n",
    "[Example File](https://gedcom.io/testfiles/gedcom70/filename-1.ged)"
   ]
  },
  {
   "cell_type": "markdown",
   "id": "e95854ef-0bcc-4bf0-ba25-b64b7acc0553",
   "metadata": {},
   "source": [
    "<a id=\"LongURL\"></a>\n",
    "## Long-URL Example\n",
    "\n",
    "[Example File](https://gedcom.io/testfiles/gedcom70/long-url.ged)"
   ]
  },
  {
   "cell_type": "markdown",
   "id": "be373fcc-fce0-45c3-8c6a-a02e2d4e66ca",
   "metadata": {},
   "source": [
    "<a id=\"Maximal70\"></a>\n",
    "## Maximal-70 Example\n",
    "\n",
    "[Example File](https://gedcom.io/testfiles/gedcom70/maximal-70.ged)"
   ]
  },
  {
   "cell_type": "markdown",
   "id": "aaea4ec6-cd0c-4092-be8b-c959ddd7996f",
   "metadata": {},
   "source": [
    "<a id=\"Maximal70GDZ\"></a>\n",
    "## Maximal-70-GDZ Example\n",
    "\n",
    "[Example File](https://gedcom.io/testfiles/gedcom70/maximal-70.gdz)"
   ]
  },
  {
   "cell_type": "markdown",
   "id": "99d8bcc7-dd80-4feb-a930-aa560693a00a",
   "metadata": {},
   "source": [
    "<a id=\"Minimal70\"></a>\n",
    "## Minimal-70 Example\n",
    "\n",
    "[Example File](https://gedcom.io/testfiles/gedcom70/minimal-70.ged)"
   ]
  },
  {
   "cell_type": "markdown",
   "id": "4ec705f1-7604-42b1-9162-f7dbdb8511bd",
   "metadata": {},
   "source": [
    "<a id=\"Minimal70GDZ\"></a>\n",
    "## Minimal-70-GDZ Example\n",
    "\n",
    "[Example File](https://gedcom.io/testfiles/gedcom70/minimal-70.gdz)"
   ]
  },
  {
   "cell_type": "markdown",
   "id": "d8349140-ea82-4596-890e-8c61fee520ed",
   "metadata": {},
   "source": [
    "<a id=\"Notes1\"></a>\n",
    "## Notes-1 Example\n",
    "\n",
    "[Example File](https://gedcom.io/testfiles/gedcom70/notes-1.ged)"
   ]
  },
  {
   "cell_type": "markdown",
   "id": "126c1182-a9bf-4e97-9b02-12016d517e2b",
   "metadata": {},
   "source": [
    "<a id=\"Obje1\"></a>\n",
    "## Obje-1 Example\n",
    "\n",
    "[Example File](https://gedcom.io/testfiles/gedcom70/obje-1.ged)"
   ]
  },
  {
   "cell_type": "markdown",
   "id": "57361b80-fcff-4fcc-a7d4-338296cd20b2",
   "metadata": {},
   "source": [
    "<a id=\"Remarriage1\"></a>\n",
    "## Remarriage1 Example\n",
    "\n",
    "[Example File](https://gedcom.io/testfiles/gedcom70/remarriage1e.ged)"
   ]
  },
  {
   "cell_type": "markdown",
   "id": "cfe1968e-29b9-4fe3-9289-d0daef079624",
   "metadata": {},
   "source": [
    "<a id=\"Remarriage2\"></a>\n",
    "## Remarriage2 Example\n",
    "\n",
    "[Example File](https://gedcom.io/testfiles/gedcom70/remarriage2.ged)"
   ]
  },
  {
   "cell_type": "markdown",
   "id": "636cb363-e0dd-4151-8f0b-6c6d091111fd",
   "metadata": {},
   "source": [
    "<a id=\"SameSexMarriage\"></a>\n",
    "## Same-Sex-Marriage Example\n",
    "\n",
    "[Example File](https://gedcom.io/testfiles/gedcom70/same-sex-marriage.ged)"
   ]
  },
  {
   "cell_type": "markdown",
   "id": "e1d5ab89-1831-4442-9b1b-4f111a819e45",
   "metadata": {},
   "source": [
    "<a id=\"VoidPtr\"></a>\n",
    "## VoidPtr Example\n",
    "\n",
    "[Example File](https://gedcom.io/testfiles/gedcom70/voidptr.ged)"
   ]
  },
  {
   "cell_type": "markdown",
   "id": "405bed95-cb20-4ca4-819e-6d73df0f124a",
   "metadata": {},
   "source": [
    "<a id=\"Xref\"></a>\n",
    "## Xref Example\n",
    "\n",
    "[Example File](https://gedcom.io/testfiles/gedcom70/xref.ged)"
   ]
  },
  {
   "cell_type": "code",
   "execution_count": null,
   "id": "f560dbea-1063-40a9-8752-d4745a7afe88",
   "metadata": {},
   "outputs": [],
   "source": []
  }
 ],
 "metadata": {
  "kernelspec": {
   "display_name": "Python 3 (ipykernel)",
   "language": "python",
   "name": "python3"
  },
  "language_info": {
   "codemirror_mode": {
    "name": "ipython",
    "version": 3
   },
   "file_extension": ".py",
   "mimetype": "text/x-python",
   "name": "python",
   "nbconvert_exporter": "python",
   "pygments_lexer": "ipython3",
   "version": "3.13.2"
  }
 },
 "nbformat": 4,
 "nbformat_minor": 5
}
