{
 "cells": [
  {
   "cell_type": "markdown",
   "id": "9fb90750-d01e-40c0-b357-42140fd45a25",
   "metadata": {},
   "source": [
    "# Notebook Test"
   ]
  },
  {
   "cell_type": "code",
   "execution_count": 7,
   "id": "5cb2e973-ce5b-4831-89db-e3ed3f560256",
   "metadata": {},
   "outputs": [
    {
     "ename": "SyntaxError",
     "evalue": "invalid syntax (932864911.py, line 1)",
     "output_type": "error",
     "traceback": [
      "\u001b[1;36m  Cell \u001b[1;32mIn[7], line 1\u001b[1;36m\u001b[0m\n\u001b[1;33m    from ../genedata.store import Phone\u001b[0m\n\u001b[1;37m           ^\u001b[0m\n\u001b[1;31mSyntaxError\u001b[0m\u001b[1;31m:\u001b[0m invalid syntax\n"
     ]
    }
   ],
   "source": [
    "from ../genedata.store import Phone\n",
    "\n",
    "p = Phone('123-456-7894')"
   ]
  },
  {
   "cell_type": "markdown",
   "id": "ea9e88e7-ac4f-4140-ae04-e5255a1c9695",
   "metadata": {},
   "source": [
    "## Check that the code method works."
   ]
  },
  {
   "cell_type": "code",
   "execution_count": 2,
   "id": "961ac70d-f7ea-4c82-b5af-d55a44b52c11",
   "metadata": {},
   "outputs": [
    {
     "ename": "NameError",
     "evalue": "name 'p' is not defined",
     "output_type": "error",
     "traceback": [
      "\u001b[1;31m---------------------------------------------------------------------------\u001b[0m",
      "\u001b[1;31mNameError\u001b[0m                                 Traceback (most recent call last)",
      "Cell \u001b[1;32mIn[2], line 1\u001b[0m\n\u001b[1;32m----> 1\u001b[0m \u001b[43mp\u001b[49m\u001b[38;5;241m.\u001b[39mcode()\n",
      "\u001b[1;31mNameError\u001b[0m: name 'p' is not defined"
     ]
    }
   ],
   "source": [
    "p.code()"
   ]
  },
  {
   "cell_type": "code",
   "execution_count": null,
   "id": "57a9070f-861b-42ce-9a1f-e2da0d1ad98a",
   "metadata": {},
   "outputs": [],
   "source": []
  }
 ],
 "metadata": {
  "kernelspec": {
   "display_name": "Python 3 (ipykernel)",
   "language": "python",
   "name": "python3"
  },
  "language_info": {
   "codemirror_mode": {
    "name": "ipython",
    "version": 3
   },
   "file_extension": ".py",
   "mimetype": "text/x-python",
   "name": "python",
   "nbconvert_exporter": "python",
   "pygments_lexer": "ipython3",
   "version": "3.13.2"
  }
 },
 "nbformat": 4,
 "nbformat_minor": 5
}
