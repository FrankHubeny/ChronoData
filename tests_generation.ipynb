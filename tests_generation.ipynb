{
 "cells": [
  {
   "cell_type": "markdown",
   "id": "044510a1-e177-439a-b4dd-1285cf290faf",
   "metadata": {},
   "source": [
    "# Generation of Tests of Generated Classes"
   ]
  },
  {
   "cell_type": "markdown",
   "id": "19389c77-2c2a-46c3-bb63-c34d6cdfcf8e",
   "metadata": {},
   "source": [
    "## All Test"
   ]
  },
  {
   "cell_type": "code",
   "execution_count": null,
   "id": "319b9cf4-6d2f-45e2-9292-ca8676e7cfa1",
   "metadata": {},
   "outputs": [],
   "source": [
    "from genedata.generate import Tests\n",
    "from genedata.specifications7 import Structure, EnumerationSet, Enumeration\n",
    "print(Tests.all(Structure, EnumerationSet, Enumeration))"
   ]
  },
  {
   "cell_type": "markdown",
   "id": "2211359b-88f9-4609-a112-49c3b153adf4",
   "metadata": {},
   "source": [
    "## Bad Enum Test"
   ]
  },
  {
   "cell_type": "code",
   "execution_count": null,
   "id": "b7feab3e-0597-4396-8188-51d7d9b9b5e1",
   "metadata": {},
   "outputs": [],
   "source": [
    "from genedata.generate import Tests\n",
    "from genedata.specifications7 import Structure, EnumerationSet, Enumeration\n",
    "print(Tests.bad_enum(Structure, EnumerationSet, Enumeration))"
   ]
  },
  {
   "cell_type": "markdown",
   "id": "005f3e2e-dde7-40f3-92a0-8ae1b3adc2b2",
   "metadata": {},
   "source": [
    "## Bad Payload Test"
   ]
  },
  {
   "cell_type": "code",
   "execution_count": null,
   "id": "833fb8dc-3469-4926-9ca0-c99c5b59a760",
   "metadata": {},
   "outputs": [],
   "source": [
    "from genedata.generate import Tests\n",
    "from genedata.specifications7 import Structure, EnumerationSet, Enumeration\n",
    "print(Tests.bad_payload(Structure, EnumerationSet, Enumeration))"
   ]
  },
  {
   "cell_type": "markdown",
   "id": "f8b0ffaa-5729-4566-88fd-6e39d0d260f3",
   "metadata": {},
   "source": [
    "## Bad Singular Test"
   ]
  },
  {
   "cell_type": "code",
   "execution_count": null,
   "id": "d11ca5db-6278-4149-85e3-099582f6b8b2",
   "metadata": {},
   "outputs": [],
   "source": [
    "from genedata.generate import Tests\n",
    "from genedata.specifications7 import Structure, EnumerationSet, Enumeration\n",
    "print(Tests.bad_singular(Structure, EnumerationSet, Enumeration))"
   ]
  },
  {
   "cell_type": "markdown",
   "id": "31321ca1-fb40-4269-ac70-15765d5a7f0b",
   "metadata": {},
   "source": [
    "## Empty Subs Test"
   ]
  },
  {
   "cell_type": "code",
   "execution_count": null,
   "id": "a6411ee1-7c47-44d9-8148-64e3242d41bc",
   "metadata": {},
   "outputs": [],
   "source": [
    "from genedata.generate import Tests\n",
    "from genedata.specifications7 import Structure, EnumerationSet, Enumeration\n",
    "print(Tests.empty_subs(Structure, EnumerationSet, Enumeration))"
   ]
  },
  {
   "cell_type": "markdown",
   "id": "9214d112-e431-4dc5-8bd9-8ae52e0ecea3",
   "metadata": {},
   "source": [
    "## Empty Value Test"
   ]
  },
  {
   "cell_type": "code",
   "execution_count": null,
   "id": "d0d9f51f-d54e-4528-be38-e3528179c22e",
   "metadata": {},
   "outputs": [],
   "source": [
    "from genedata.generate import Tests\n",
    "from genedata.specifications7 import Structure, EnumerationSet, Enumeration\n",
    "print(Tests.empty_value(Structure, EnumerationSet, Enumeration))"
   ]
  },
  {
   "cell_type": "markdown",
   "id": "91d8c8b7-e258-4608-8e2d-24df7c137668",
   "metadata": {},
   "source": [
    "## Missing Required Test"
   ]
  },
  {
   "cell_type": "code",
   "execution_count": null,
   "id": "338a0114-a7f9-4159-b5df-1b5884a252de",
   "metadata": {},
   "outputs": [],
   "source": [
    "from genedata.generate import Tests\n",
    "from genedata.specifications7 import Structure, EnumerationSet, Enumeration\n",
    "print(Tests.missing_required(Structure, EnumerationSet, Enumeration))"
   ]
  },
  {
   "cell_type": "markdown",
   "id": "8f625cd4-3ea5-400c-a44b-ea17e2dc1d7e",
   "metadata": {},
   "source": [
    "## Not Permitted Test"
   ]
  },
  {
   "cell_type": "code",
   "execution_count": null,
   "id": "e5452548-da91-4235-8719-6ce9af5e2c78",
   "metadata": {},
   "outputs": [],
   "source": [
    "from genedata.generate import Tests\n",
    "from genedata.specifications7 import Structure, EnumerationSet, Enumeration\n",
    "print(Tests.not_permitted(Structure, EnumerationSet, Enumeration))"
   ]
  },
  {
   "cell_type": "code",
   "execution_count": null,
   "id": "abbed80c-400a-48a0-950f-94a2d740d7a6",
   "metadata": {},
   "outputs": [],
   "source": []
  }
 ],
 "metadata": {
  "kernelspec": {
   "display_name": "Python 3 (ipykernel)",
   "language": "python",
   "name": "python3"
  },
  "language_info": {
   "codemirror_mode": {
    "name": "ipython",
    "version": 3
   },
   "file_extension": ".py",
   "mimetype": "text/x-python",
   "name": "python",
   "nbconvert_exporter": "python",
   "pygments_lexer": "ipython3",
   "version": "3.13.2"
  }
 },
 "nbformat": 4,
 "nbformat_minor": 5
}
