{
 "cells": [
  {
   "cell_type": "markdown",
   "id": "eb175d3f-de0b-4ec1-9108-7e3a5a042ff6",
   "metadata": {},
   "source": [
    "# GEDCOM specification\n",
    "\n",
    "Queries of the GEDCOM specification loaded to the gedcom7.py module.\n",
    "\n",
    "1. [Specific Structure Test](#specific)\n",
    "1. [Number of Substructures](#number_of_substructures)\n",
    "2. [Number of Data Types](#number_of_datatypes)\n",
    "3. [Structures with Examples](#examples)\n",
    "4. [Structures with Substructures](#structures_with_substructures)"
   ]
  },
  {
   "cell_type": "markdown",
   "id": "9a1baa81-17d0-4993-9a83-37cedaee33eb",
   "metadata": {},
   "source": [
    "<a id=\"specific\"></a>\n",
    "## Specific Structure Test"
   ]
  },
  {
   "cell_type": "code",
   "execution_count": null,
   "id": "91ff2f6a-7051-45cd-9da7-752b9c14c238",
   "metadata": {},
   "outputs": [],
   "source": [
    "A = 'therewere  sdf `httpsssssssssss` in here.'\n"
   ]
  },
  {
   "cell_type": "code",
   "execution_count": 2,
   "id": "062ee344-2b83-44b8-994b-d20f81147deb",
   "metadata": {},
   "outputs": [
    {
     "ename": "ValueError",
     "evalue": "The value \"0y\" is not an age for structure \"Age\".",
     "output_type": "error",
     "traceback": [
      "\u001b[1;31m---------------------------------------------------------------------------\u001b[0m",
      "\u001b[1;31mValueError\u001b[0m                                Traceback (most recent call last)",
      "Cell \u001b[1;32mIn[2], line 9\u001b[0m\n\u001b[0;32m      6\u001b[0m indi \u001b[38;5;241m=\u001b[39m IndividualXref(\u001b[38;5;124m'\u001b[39m\u001b[38;5;124m@1@\u001b[39m\u001b[38;5;124m'\u001b[39m)\n\u001b[0;32m      8\u001b[0m m \u001b[38;5;241m=\u001b[39m Age(\u001b[38;5;124m'\u001b[39m\u001b[38;5;124m0y\u001b[39m\u001b[38;5;124m'\u001b[39m)\n\u001b[1;32m----> 9\u001b[0m \u001b[43mm\u001b[49m\u001b[38;5;241;43m.\u001b[39;49m\u001b[43mged\u001b[49m\u001b[43m(\u001b[49m\u001b[43m)\u001b[49m\n",
      "File \u001b[1;32m~\\projects\\ChronoData\\ChronoData\\genedata\\structure.py:3109\u001b[0m, in \u001b[0;36mBaseStructure.ged\u001b[1;34m(self, level, format)\u001b[0m\n\u001b[0;32m   3107\u001b[0m \u001b[38;5;28;01mdef\u001b[39;00m \u001b[38;5;21mged\u001b[39m(\u001b[38;5;28mself\u001b[39m, level: \u001b[38;5;28mint\u001b[39m \u001b[38;5;241m=\u001b[39m \u001b[38;5;241m1\u001b[39m, \u001b[38;5;28mformat\u001b[39m: \u001b[38;5;28mbool\u001b[39m \u001b[38;5;241m=\u001b[39m \u001b[38;5;28;01mTrue\u001b[39;00m) \u001b[38;5;241m-\u001b[39m\u001b[38;5;241m>\u001b[39m \u001b[38;5;28mstr\u001b[39m:\n\u001b[0;32m   3108\u001b[0m \u001b[38;5;250m    \u001b[39m\u001b[38;5;124;03m\"\"\"Generate the GEDCOM lines.\"\"\"\u001b[39;00m\n\u001b[1;32m-> 3109\u001b[0m     \u001b[38;5;28;01mif\u001b[39;00m \u001b[38;5;28;43mself\u001b[39;49m\u001b[38;5;241;43m.\u001b[39;49m\u001b[43mvalidate\u001b[49m\u001b[43m(\u001b[49m\u001b[43m)\u001b[49m:\n\u001b[0;32m   3110\u001b[0m         \u001b[38;5;28;01mif\u001b[39;00m \u001b[38;5;28mself\u001b[39m\u001b[38;5;241m.\u001b[39mclass_name \u001b[38;5;129;01min\u001b[39;00m [\n\u001b[0;32m   3111\u001b[0m             \u001b[38;5;124m'\u001b[39m\u001b[38;5;124mHead\u001b[39m\u001b[38;5;124m'\u001b[39m,\n\u001b[0;32m   3112\u001b[0m             \u001b[38;5;124m'\u001b[39m\u001b[38;5;124mRecordFam\u001b[39m\u001b[38;5;124m'\u001b[39m,\n\u001b[1;32m   (...)\u001b[0m\n\u001b[0;32m   3119\u001b[0m             \u001b[38;5;124m'\u001b[39m\u001b[38;5;124mTrlr\u001b[39m\u001b[38;5;124m'\u001b[39m,\n\u001b[0;32m   3120\u001b[0m         ]:\n\u001b[0;32m   3121\u001b[0m             level \u001b[38;5;241m=\u001b[39m \u001b[38;5;241m0\u001b[39m\n",
      "File \u001b[1;32m~\\projects\\ChronoData\\ChronoData\\genedata\\structure.py:2988\u001b[0m, in \u001b[0;36mBaseStructure.validate\u001b[1;34m(self)\u001b[0m\n\u001b[0;32m   2980\u001b[0m         \u001b[38;5;28;01mraise\u001b[39;00m \u001b[38;5;167;01mValueError\u001b[39;00m(\n\u001b[0;32m   2981\u001b[0m             Msg\u001b[38;5;241m.\u001b[39mNOT_STRING\u001b[38;5;241m.\u001b[39mformat(\u001b[38;5;28mself\u001b[39m\u001b[38;5;241m.\u001b[39mvalue, \u001b[38;5;28mself\u001b[39m\u001b[38;5;241m.\u001b[39mclass_name)\n\u001b[0;32m   2982\u001b[0m         )\n\u001b[0;32m   2983\u001b[0m     \u001b[38;5;28;01mif\u001b[39;00m (\n\u001b[0;32m   2984\u001b[0m         \u001b[38;5;129;01mnot\u001b[39;00m re\u001b[38;5;241m.\u001b[39msearch(\u001b[38;5;124m'\u001b[39m\u001b[38;5;124m>?<?.y?.m?.w?.d?\u001b[39m\u001b[38;5;124m'\u001b[39m, \u001b[38;5;28mself\u001b[39m\u001b[38;5;241m.\u001b[39mvalue)\n\u001b[0;32m   2985\u001b[0m         \u001b[38;5;129;01mor\u001b[39;00m \u001b[38;5;129;01mnot\u001b[39;00m re\u001b[38;5;241m.\u001b[39msearch(\u001b[38;5;124m'\u001b[39m\u001b[38;5;124m[ymwd]\u001b[39m\u001b[38;5;124m'\u001b[39m, \u001b[38;5;28mself\u001b[39m\u001b[38;5;241m.\u001b[39mvalue)\n\u001b[0;32m   2986\u001b[0m         \u001b[38;5;129;01mor\u001b[39;00m re\u001b[38;5;241m.\u001b[39msearch(\u001b[38;5;124m'\u001b[39m\u001b[38;5;124m[abcefghijklnopqrstuxz]\u001b[39m\u001b[38;5;124m'\u001b[39m, \u001b[38;5;28mself\u001b[39m\u001b[38;5;241m.\u001b[39mvalue)\n\u001b[0;32m   2987\u001b[0m     ) \u001b[38;5;129;01mand\u001b[39;00m \u001b[38;5;28mself\u001b[39m\u001b[38;5;241m.\u001b[39mvalue \u001b[38;5;241m!=\u001b[39m Default\u001b[38;5;241m.\u001b[39mEMPTY:\n\u001b[1;32m-> 2988\u001b[0m         \u001b[38;5;28;01mraise\u001b[39;00m \u001b[38;5;167;01mValueError\u001b[39;00m(\n\u001b[0;32m   2989\u001b[0m             Msg\u001b[38;5;241m.\u001b[39mNOT_AGE\u001b[38;5;241m.\u001b[39mformat(\u001b[38;5;28mstr\u001b[39m(\u001b[38;5;28mself\u001b[39m\u001b[38;5;241m.\u001b[39mvalue), \u001b[38;5;28mself\u001b[39m\u001b[38;5;241m.\u001b[39mclass_name)\n\u001b[0;32m   2990\u001b[0m         )\n\u001b[0;32m   2991\u001b[0m \u001b[38;5;28;01mcase\u001b[39;00m \u001b[38;5;124m'\u001b[39m\u001b[38;5;124mhttp://www.w3.org/ns/dcat#mediaType\u001b[39m\u001b[38;5;124m'\u001b[39m:\n\u001b[0;32m   2992\u001b[0m     \u001b[38;5;28;01mif\u001b[39;00m \u001b[38;5;129;01mnot\u001b[39;00m \u001b[38;5;28misinstance\u001b[39m(\u001b[38;5;28mself\u001b[39m\u001b[38;5;241m.\u001b[39mvalue, \u001b[38;5;28mstr\u001b[39m):\n",
      "\u001b[1;31mValueError\u001b[0m: The value \"0y\" is not an age for structure \"Age\"."
     ]
    }
   ],
   "source": [
    "from genedata.gedcom7 import Structure\n",
    "from genedata.messages import Msg\n",
    "from genedata.structure import Age, IndiName, Lati, Long, Phrase, Trlr, IndividualXref, Input\n",
    "import re\n",
    "\n",
    "#not re.search('>?<?.y?.m?.w?.d?', self.value)\n",
    "                        #or not re.search('[ymwd]', self.value)\n",
    "                        #or \n",
    "\n",
    "indi = IndividualXref('@1@')\n",
    "\n",
    "m = Age('0y')\n",
    "m.ged()\n",
    "\n",
    "\n",
    "\n"
   ]
  },
  {
   "cell_type": "code",
   "execution_count": 44,
   "id": "393a1217-3f97-4580-a6ed-fd8deee5f58a",
   "metadata": {},
   "outputs": [
    {
     "name": "stdout",
     "output_type": "stream",
     "text": [
      "False\n"
     ]
    }
   ],
   "source": [
    "import re\n",
    "a = '> 0yy 1m 1w 1dz'\n",
    "#a = 'aaaaay'\n",
    "if re.search('[abcefghijklnopqrstuxz]', a) or re.search('yy', a):\n",
    "    print('False')\n",
    "else:\n",
    "    print('True')"
   ]
  },
  {
   "cell_type": "code",
   "execution_count": 47,
   "id": "64c09735-b43d-4bb7-a969-5c065df9895d",
   "metadata": {},
   "outputs": [
    {
     "data": {
      "text/plain": [
       "'AAV'"
      ]
     },
     "execution_count": 47,
     "metadata": {},
     "output_type": "execute_result"
    }
   ],
   "source": [
    "r = 'https://gedcom.io/terms/v7/month-AAV'\n",
    "r[r.rfind('month-')+6 :]"
   ]
  },
  {
   "cell_type": "code",
   "execution_count": null,
   "id": "9e357522-4a67-456e-9d8b-e2ad0f0069cf",
   "metadata": {},
   "outputs": [],
   "source": [
    "from genedata.gedcom7 import Structure\n",
    "from genedata.structure import Map, Lati, Long, Phrase\n",
    "\n",
    "m = Lati('A10.1')\n",
    "m.validate(), m.value"
   ]
  },
  {
   "cell_type": "markdown",
   "id": "1684a813-59bd-4f0d-9864-602b35321392",
   "metadata": {},
   "source": [
    "<a id=\"number_of_substructures\"></a>\n",
    "## Counting Number of Substructures"
   ]
  },
  {
   "cell_type": "code",
   "execution_count": null,
   "id": "fa4da867-9684-4cec-b51e-c4ccf6a7d419",
   "metadata": {},
   "outputs": [],
   "source": [
    "import collections\n",
    "\n",
    "from genedata.constants import Default\n",
    "from genedata.gedcom7 import Structure\n",
    "\n",
    "lengths = []\n",
    "for key, value in Structure.items():\n",
    "    if key != \"CONT\":\n",
    "        lengths.append(len(value[Default.YAML_PERMITTED]))\n",
    "collections.Counter(lengths)"
   ]
  },
  {
   "cell_type": "markdown",
   "id": "4abee6ce-865b-4d12-b9c1-7e3c7c6dd046",
   "metadata": {},
   "source": [
    "<a id=\"number_of_datatypes\"></a>\n",
    "## Counting Number of Data Types"
   ]
  },
  {
   "cell_type": "code",
   "execution_count": null,
   "id": "af878327-764d-4b6e-8ec5-cee87cf4d9f6",
   "metadata": {},
   "outputs": [],
   "source": [
    "import collections\n",
    "\n",
    "from genedata.constants import Default\n",
    "from genedata.gedcom7 import Structure\n",
    "\n",
    "payloads = []\n",
    "for key, value in Structure.items():\n",
    "    if key != \"CONT\":\n",
    "        if Default.YAML_PAYLOAD in value:\n",
    "            payloads.append(value[Default.YAML_PAYLOAD])\n",
    "        else:\n",
    "            payloads.append(\"none\")\n",
    "collections.Counter(payloads)"
   ]
  },
  {
   "cell_type": "markdown",
   "id": "82e02e68-e719-4703-9d40-3835801dda81",
   "metadata": {},
   "source": [
    "<a id=\"examples\"></a>\n",
    "## Structures with Examples"
   ]
  },
  {
   "cell_type": "code",
   "execution_count": null,
   "id": "6bb61c8e-b08e-4c4d-bfff-eaa7c17c7536",
   "metadata": {},
   "outputs": [],
   "source": [
    "from genedata.constants import Default\n",
    "from genedata.gedcom7 import Structure\n",
    "\n",
    "for key, value in Structure.items():\n",
    "    for spec in value[Default.YAML_SPECIFICATION]:\n",
    "        if \"example\" in spec:\n",
    "            print(f\"{key}, {value[Default.YAML_PAYLOAD]}\")\n",
    "            break"
   ]
  },
  {
   "cell_type": "markdown",
   "id": "4ef2d3eb-ea8c-4989-89be-2a58a79a5510",
   "metadata": {},
   "source": [
    "<a id=\"structures_with_substructures\"></a>\n",
    "## Structures with Substructures"
   ]
  },
  {
   "cell_type": "code",
   "execution_count": null,
   "id": "1c7f6ad6-ea4e-4d4f-9d54-942edcc4d4c2",
   "metadata": {
    "scrolled": true
   },
   "outputs": [],
   "source": [
    "from genedata.constants import Default\n",
    "from genedata.gedcom7 import Structure\n",
    "\n",
    "count = 0\n",
    "for key, value in Structure.items():\n",
    "    if len(value[Default.YAML_PERMITTED]) > 0:\n",
    "        print(f\"{key}: {value[Default.YAML_PERMITTED]}\")\n",
    "        count += 1\n",
    "print(f\"Total Structures With Substructures is {count!s}\")"
   ]
  },
  {
   "cell_type": "code",
   "execution_count": null,
   "id": "9cfb2d4c-c273-4055-905c-8fb93220c218",
   "metadata": {},
   "outputs": [],
   "source": []
  }
 ],
 "metadata": {
  "kernelspec": {
   "display_name": "Python 3 (ipykernel)",
   "language": "python",
   "name": "python3"
  },
  "language_info": {
   "codemirror_mode": {
    "name": "ipython",
    "version": 3
   },
   "file_extension": ".py",
   "mimetype": "text/x-python",
   "name": "python",
   "nbconvert_exporter": "python",
   "pygments_lexer": "ipython3",
   "version": "3.13.2"
  }
 },
 "nbformat": 4,
 "nbformat_minor": 5
}
