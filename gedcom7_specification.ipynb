{
 "cells": [
  {
   "cell_type": "markdown",
   "id": "eb175d3f-de0b-4ec1-9108-7e3a5a042ff6",
   "metadata": {},
   "source": [
    "# GEDCOM specification\n",
    "\n",
    "Queries of the GEDCOM specification loaded to the gedcom7.py module.\n",
    "\n",
    "1. [Specific Structure Test](#specific)\n",
    "1. [Number of Substructures](#number_of_substructures)\n",
    "2. [Number of Data Types](#number_of_datatypes)\n",
    "3. [Structures with Examples](#examples)\n",
    "4. [Structures with Substructures](#structures_with_substructures)"
   ]
  },
  {
   "cell_type": "markdown",
   "id": "9a1baa81-17d0-4993-9a83-37cedaee33eb",
   "metadata": {},
   "source": [
    "<a id=\"specific\"></a>\n",
    "## Specific Structure Test"
   ]
  },
  {
   "cell_type": "code",
   "execution_count": null,
   "id": "91ff2f6a-7051-45cd-9da7-752b9c14c238",
   "metadata": {},
   "outputs": [],
   "source": [
    "A = \"\"\"\n",
    "1 MAP\n",
    "2 LATI N10\n",
    "2 LONG W34\n",
    "1 MAP\n",
    "2 LATI N10\n",
    "2 LONG W34\"\"\"\n",
    "Asplit = [a.split(' ') for a in A.split('\\n') if a != '']\n",
    "for a in Asplit:\n",
    "    a[0] = int(a[0])\n",
    "print(Asplit)"
   ]
  },
  {
   "cell_type": "code",
   "execution_count": 5,
   "id": "062ee344-2b83-44b8-994b-d20f81147deb",
   "metadata": {},
   "outputs": [
    {
     "data": {
      "text/plain": [
       "'1 HUSB @1@\\n'"
      ]
     },
     "execution_count": 5,
     "metadata": {},
     "output_type": "execute_result"
    }
   ],
   "source": [
    "from genedata.gedcom7 import Structure\n",
    "from genedata.messages import Msg\n",
    "from genedata.structure import FamHusb, FamWife, Lati, Long, Phrase, Trlr, IndividualXref\n",
    "\n",
    "indi = IndividualXref('@1@')\n",
    "\n",
    "m = FamHusb(indi)\n",
    "m.ged()\n",
    "\n"
   ]
  },
  {
   "cell_type": "code",
   "execution_count": 9,
   "id": "393a1217-3f97-4580-a6ed-fd8deee5f58a",
   "metadata": {},
   "outputs": [
    {
     "ename": "SyntaxError",
     "evalue": "invalid syntax (453140985.py, line 3)",
     "output_type": "error",
     "traceback": [
      "\u001b[1;36m  Cell \u001b[1;32mIn[9], line 3\u001b[1;36m\u001b[0m\n\u001b[1;33m    re.match((?<=`http)(.*?)(?=`), a)\u001b[0m\n\u001b[1;37m              ^\u001b[0m\n\u001b[1;31mSyntaxError\u001b[0m\u001b[1;31m:\u001b[0m invalid syntax\n"
     ]
    }
   ],
   "source": [
    "import re\n",
    "a = 'sddfetwckg `httpsdddfdgkttjf;dl` is hrere'\n",
    "re.match((?<=`http)(.*?)(?=`), a)"
   ]
  },
  {
   "cell_type": "code",
   "execution_count": null,
   "id": "9e357522-4a67-456e-9d8b-e2ad0f0069cf",
   "metadata": {},
   "outputs": [],
   "source": [
    "from genedata.gedcom7 import Structure\n",
    "from genedata.structure import Map, Lati, Long, Phrase\n",
    "\n",
    "m = Lati('A10.1')\n",
    "m.validate(), m.value"
   ]
  },
  {
   "cell_type": "markdown",
   "id": "1684a813-59bd-4f0d-9864-602b35321392",
   "metadata": {},
   "source": [
    "<a id=\"number_of_substructures\"></a>\n",
    "## Counting Number of Substructures"
   ]
  },
  {
   "cell_type": "code",
   "execution_count": null,
   "id": "fa4da867-9684-4cec-b51e-c4ccf6a7d419",
   "metadata": {},
   "outputs": [],
   "source": [
    "import collections\n",
    "\n",
    "from genedata.constants import Default\n",
    "from genedata.gedcom7 import Structure\n",
    "\n",
    "lengths = []\n",
    "for key, value in Structure.items():\n",
    "    if key != \"CONT\":\n",
    "        lengths.append(len(value[Default.YAML_PERMITTED]))\n",
    "collections.Counter(lengths)"
   ]
  },
  {
   "cell_type": "markdown",
   "id": "4abee6ce-865b-4d12-b9c1-7e3c7c6dd046",
   "metadata": {},
   "source": [
    "<a id=\"number_of_datatypes\"></a>\n",
    "## Counting Number of Data Types"
   ]
  },
  {
   "cell_type": "code",
   "execution_count": null,
   "id": "af878327-764d-4b6e-8ec5-cee87cf4d9f6",
   "metadata": {},
   "outputs": [],
   "source": [
    "import collections\n",
    "\n",
    "from genedata.constants import Default\n",
    "from genedata.gedcom7 import Structure\n",
    "\n",
    "payloads = []\n",
    "for key, value in Structure.items():\n",
    "    if key != \"CONT\":\n",
    "        if Default.YAML_PAYLOAD in value:\n",
    "            payloads.append(value[Default.YAML_PAYLOAD])\n",
    "        else:\n",
    "            payloads.append(\"none\")\n",
    "collections.Counter(payloads)"
   ]
  },
  {
   "cell_type": "markdown",
   "id": "82e02e68-e719-4703-9d40-3835801dda81",
   "metadata": {},
   "source": [
    "<a id=\"examples\"></a>\n",
    "## Structures with Examples"
   ]
  },
  {
   "cell_type": "code",
   "execution_count": null,
   "id": "6bb61c8e-b08e-4c4d-bfff-eaa7c17c7536",
   "metadata": {},
   "outputs": [],
   "source": [
    "from genedata.constants import Default\n",
    "from genedata.gedcom7 import Structure\n",
    "\n",
    "for key, value in Structure.items():\n",
    "    for spec in value[Default.YAML_SPECIFICATION]:\n",
    "        if \"example\" in spec:\n",
    "            print(f\"{key}, {value[Default.YAML_PAYLOAD]}\")\n",
    "            break"
   ]
  },
  {
   "cell_type": "markdown",
   "id": "4ef2d3eb-ea8c-4989-89be-2a58a79a5510",
   "metadata": {},
   "source": [
    "<a id=\"structures_with_substructures\"></a>\n",
    "## Structures with Substructures"
   ]
  },
  {
   "cell_type": "code",
   "execution_count": null,
   "id": "1c7f6ad6-ea4e-4d4f-9d54-942edcc4d4c2",
   "metadata": {
    "scrolled": true
   },
   "outputs": [],
   "source": [
    "from genedata.constants import Default\n",
    "from genedata.gedcom7 import Structure\n",
    "\n",
    "count = 0\n",
    "for key, value in Structure.items():\n",
    "    if len(value[Default.YAML_PERMITTED]) > 0:\n",
    "        print(f\"{key}: {value[Default.YAML_PERMITTED]}\")\n",
    "        count += 1\n",
    "print(f\"Total Structures With Substructures is {count!s}\")"
   ]
  },
  {
   "cell_type": "code",
   "execution_count": null,
   "id": "9cfb2d4c-c273-4055-905c-8fb93220c218",
   "metadata": {},
   "outputs": [],
   "source": []
  }
 ],
 "metadata": {
  "kernelspec": {
   "display_name": "Python 3 (ipykernel)",
   "language": "python",
   "name": "python3"
  },
  "language_info": {
   "codemirror_mode": {
    "name": "ipython",
    "version": 3
   },
   "file_extension": ".py",
   "mimetype": "text/x-python",
   "name": "python",
   "nbconvert_exporter": "python",
   "pygments_lexer": "ipython3",
   "version": "3.13.2"
  }
 },
 "nbformat": 4,
 "nbformat_minor": 5
}
