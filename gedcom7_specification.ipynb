{
 "cells": [
  {
   "cell_type": "markdown",
   "id": "eb175d3f-de0b-4ec1-9108-7e3a5a042ff6",
   "metadata": {},
   "source": [
    "# GEDCOM specification\n",
    "\n",
    "Queries of the GEDCOM specification loaded to the gedcom7.py module.\n",
    "\n",
    "1. [Specific Structure Test](#specific)\n",
    "1. [Number of Substructures](#number_of_substructures)\n",
    "2. [Number of Data Types](#number_of_datatypes)\n",
    "3. [Structures with Examples](#examples)\n",
    "4. [Structures with Substructures](#structures_with_substructures)"
   ]
  },
  {
   "cell_type": "markdown",
   "id": "9a1baa81-17d0-4993-9a83-37cedaee33eb",
   "metadata": {},
   "source": [
    "<a id=\"specific\"></a>\n",
    "## Specific Structure Test"
   ]
  },
  {
   "cell_type": "code",
   "execution_count": null,
   "id": "91ff2f6a-7051-45cd-9da7-752b9c14c238",
   "metadata": {},
   "outputs": [],
   "source": [
    "A = 'therewere  sdf `httpsssssssssss` in here.'\n"
   ]
  },
  {
   "cell_type": "code",
   "execution_count": 1,
   "id": "062ee344-2b83-44b8-994b-d20f81147deb",
   "metadata": {},
   "outputs": [
    {
     "name": "stderr",
     "output_type": "stream",
     "text": [
      "The \"test\" genealogy has been started.\n"
     ]
    },
    {
     "data": {
      "text/plain": [
       "'\\nRecordSour()'"
      ]
     },
     "execution_count": 1,
     "metadata": {},
     "output_type": "execute_result"
    }
   ],
   "source": [
    "from genedata.gedcom7 import Structure\n",
    "from genedata.messages import Msg\n",
    "from genedata.build import Genealogy\n",
    "from genedata.structure import Adr1, Age, RecordSour, IndiName, Name, File, Form, Lati, Long, Phrase, Trlr, RecordObje, IndividualXref, Input, MultimediaXref, RecordIndi, RecordSubm, SubmitterXref\n",
    "import re\n",
    "\n",
    "#not re.search('>?<?.y?.m?.w?.d?', self.value)\n",
    "                        #or not re.search('[ymwd]', self.value)\n",
    "                        #or \n",
    "g = Genealogy('test')\n",
    "sour = g.source_xref('sour')\n",
    "m = RecordSour(sour)\n",
    "m.code()\n",
    "\n",
    "\n",
    "\n",
    "\n"
   ]
  },
  {
   "cell_type": "code",
   "execution_count": 18,
   "id": "393a1217-3f97-4580-a6ed-fd8deee5f58a",
   "metadata": {},
   "outputs": [
    {
     "name": "stderr",
     "output_type": "stream",
     "text": [
      "The \"test\" genealogy has been started.\n"
     ]
    },
    {
     "data": {
      "text/plain": [
       "''"
      ]
     },
     "execution_count": 18,
     "metadata": {},
     "output_type": "execute_result"
    }
   ],
   "source": [
    "import re\n",
    "from genedata.gedcom7 import Structure\n",
    "from genedata.constants import Default\n",
    "from genedata.build import Genealogy\n",
    "from genedata.structure import RecordSnote, RecordIndi, RecordFam\n",
    "\n",
    "g = Genealogy('test')\n",
    "fam = g.family_xref('fam')\n",
    "indi = g.individual_xref('indi')\n",
    "obje = g.multimedia_xref('obje')\n",
    "snote = g.shared_note_xref('snote', value='A shared note.')\n",
    "sour = g.source_xref('sour')\n",
    "subm = g.submitter_xref('subm')\n",
    "ext = g.extension_xref('ext')\n",
    "repo = g.repository_xref('repo')\n",
    "m = RecordFam(fam)\n",
    "m.ged()\n"
   ]
  },
  {
   "cell_type": "code",
   "execution_count": 47,
   "id": "64c09735-b43d-4bb7-a969-5c065df9895d",
   "metadata": {},
   "outputs": [
    {
     "data": {
      "text/plain": [
       "'AAV'"
      ]
     },
     "execution_count": 47,
     "metadata": {},
     "output_type": "execute_result"
    }
   ],
   "source": [
    "r = 'https://gedcom.io/terms/v7/month-AAV'\n",
    "r[r.rfind('month-')+6 :]"
   ]
  },
  {
   "cell_type": "code",
   "execution_count": null,
   "id": "9e357522-4a67-456e-9d8b-e2ad0f0069cf",
   "metadata": {},
   "outputs": [],
   "source": [
    "from genedata.gedcom7 import Structure\n",
    "from genedata.structure import Map, Lati, Long, Phrase\n",
    "\n",
    "m = Lati('A10.1')\n",
    "m.validate(), m.value"
   ]
  },
  {
   "cell_type": "markdown",
   "id": "1684a813-59bd-4f0d-9864-602b35321392",
   "metadata": {},
   "source": [
    "<a id=\"number_of_substructures\"></a>\n",
    "## Counting Number of Substructures"
   ]
  },
  {
   "cell_type": "code",
   "execution_count": null,
   "id": "fa4da867-9684-4cec-b51e-c4ccf6a7d419",
   "metadata": {},
   "outputs": [],
   "source": [
    "import collections\n",
    "\n",
    "from genedata.constants import Default\n",
    "from genedata.gedcom7 import Structure\n",
    "\n",
    "lengths = []\n",
    "for key, value in Structure.items():\n",
    "    if key != \"CONT\":\n",
    "        lengths.append(len(value[Default.YAML_PERMITTED]))\n",
    "collections.Counter(lengths)"
   ]
  },
  {
   "cell_type": "markdown",
   "id": "4abee6ce-865b-4d12-b9c1-7e3c7c6dd046",
   "metadata": {},
   "source": [
    "<a id=\"number_of_datatypes\"></a>\n",
    "## Counting Number of Data Types"
   ]
  },
  {
   "cell_type": "code",
   "execution_count": null,
   "id": "af878327-764d-4b6e-8ec5-cee87cf4d9f6",
   "metadata": {},
   "outputs": [],
   "source": [
    "import collections\n",
    "\n",
    "from genedata.constants import Default\n",
    "from genedata.gedcom7 import Structure\n",
    "\n",
    "payloads = []\n",
    "for key, value in Structure.items():\n",
    "    if key != \"CONT\":\n",
    "        if Default.YAML_PAYLOAD in value:\n",
    "            payloads.append(value[Default.YAML_PAYLOAD])\n",
    "        else:\n",
    "            payloads.append(\"none\")\n",
    "collections.Counter(payloads)"
   ]
  },
  {
   "cell_type": "markdown",
   "id": "82e02e68-e719-4703-9d40-3835801dda81",
   "metadata": {},
   "source": [
    "<a id=\"examples\"></a>\n",
    "## Structures with Examples"
   ]
  },
  {
   "cell_type": "code",
   "execution_count": null,
   "id": "6bb61c8e-b08e-4c4d-bfff-eaa7c17c7536",
   "metadata": {},
   "outputs": [],
   "source": [
    "from genedata.constants import Default\n",
    "from genedata.gedcom7 import Structure\n",
    "\n",
    "for key, value in Structure.items():\n",
    "    for spec in value[Default.YAML_SPECIFICATION]:\n",
    "        if \"example\" in spec:\n",
    "            print(f\"{key}, {value[Default.YAML_PAYLOAD]}\")\n",
    "            break"
   ]
  },
  {
   "cell_type": "markdown",
   "id": "4ef2d3eb-ea8c-4989-89be-2a58a79a5510",
   "metadata": {},
   "source": [
    "<a id=\"structures_with_substructures\"></a>\n",
    "## Structures with Substructures"
   ]
  },
  {
   "cell_type": "code",
   "execution_count": null,
   "id": "1c7f6ad6-ea4e-4d4f-9d54-942edcc4d4c2",
   "metadata": {
    "scrolled": true
   },
   "outputs": [],
   "source": [
    "from genedata.constants import Default\n",
    "from genedata.gedcom7 import Structure\n",
    "\n",
    "count = 0\n",
    "for key, value in Structure.items():\n",
    "    if len(value[Default.YAML_PERMITTED]) > 0:\n",
    "        print(f\"{key}: {value[Default.YAML_PERMITTED]}\")\n",
    "        count += 1\n",
    "print(f\"Total Structures With Substructures is {count!s}\")"
   ]
  },
  {
   "cell_type": "code",
   "execution_count": null,
   "id": "9cfb2d4c-c273-4055-905c-8fb93220c218",
   "metadata": {},
   "outputs": [],
   "source": []
  }
 ],
 "metadata": {
  "kernelspec": {
   "display_name": "Python 3 (ipykernel)",
   "language": "python",
   "name": "python3"
  },
  "language_info": {
   "codemirror_mode": {
    "name": "ipython",
    "version": 3
   },
   "file_extension": ".py",
   "mimetype": "text/x-python",
   "name": "python",
   "nbconvert_exporter": "python",
   "pygments_lexer": "ipython3",
   "version": "3.13.2"
  }
 },
 "nbformat": 4,
 "nbformat_minor": 5
}
