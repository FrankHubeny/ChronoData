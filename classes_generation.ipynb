{
 "cells": [
  {
   "cell_type": "markdown",
   "id": "c6f35864-f43d-45f4-aa29-eaa1b051106c",
   "metadata": {},
   "source": [
    "# Class Generation\n",
    "\n",
    "Generate one or all classes from the https://github.com/FamilySearch/GEDCOM-registries repository.\n",
    "\n",
    "1. [Run generate_class(key)](#test) as a test.\n",
    "2. [Run build_all](#build) to build the classes module.\n"
   ]
  },
  {
   "cell_type": "markdown",
   "id": "01874d11-b570-4ce5-9e5b-853d70ed40e3",
   "metadata": {},
   "source": [
    "<a id=\"test\"></a>\n",
    "## Run generate_class(key)"
   ]
  },
  {
   "cell_type": "code",
   "execution_count": null,
   "id": "d10d432b-f023-4a4c-ae51-98990443667d",
   "metadata": {},
   "outputs": [],
   "source": [
    "from genedata.prep import Construct\n",
    "\n",
    "url = 'C:/Users/huben/projects/ChronoData/ChronoData/genedata/GEDCOM-registeries/v7/'\n",
    "print(Construct.generate_class(\"ord-STAT\", url))"
   ]
  },
  {
   "cell_type": "markdown",
   "id": "50a6279d-fcd2-4a41-afe7-ddb21cff710e",
   "metadata": {},
   "source": [
    "<a id=\"build\"></a>\n",
    "## Run build_all"
   ]
  },
  {
   "cell_type": "code",
   "execution_count": null,
   "id": "14a22027-bf49-4c9e-94c2-8742c8e69e8e",
   "metadata": {},
   "outputs": [],
   "source": [
    "from genedata.prep import Construct\n",
    "\n",
    "source = 'https://github.com/FamilySearch/GEDCOM-registries'\n",
    "version = '7.0'\n",
    "url = 'C:/Users/huben/projects/ChronoData/ChronoData/genedata/GEDCOM-registeries/v7/'\n",
    "print(Construct.build_all(source, version, url))"
   ]
  }
 ],
 "metadata": {
  "kernelspec": {
   "display_name": "Python 3 (ipykernel)",
   "language": "python",
   "name": "python3"
  },
  "language_info": {
   "codemirror_mode": {
    "name": "ipython",
    "version": 3
   },
   "file_extension": ".py",
   "mimetype": "text/x-python",
   "name": "python",
   "nbconvert_exporter": "python",
   "pygments_lexer": "ipython3",
   "version": "3.13.2"
  }
 },
 "nbformat": 4,
 "nbformat_minor": 5
}
