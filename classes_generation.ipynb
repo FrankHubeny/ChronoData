{
 "cells": [
  {
   "cell_type": "markdown",
   "id": "5f6bf171-6e03-418c-b7de-9ba3c3f5001d",
   "metadata": {},
   "source": [
    "# Class Generation\n",
    "\n",
    "Generate one or all classes from the https://github.com/FamilySearch/GEDCOM-registries repository.\n",
    "\n",
    "1. [Run generate_class(key)](#test)\n",
    "2. [Run generate_all_classes](#run)\n",
    "3. [Run build_all](#build)\n"
   ]
  },
  {
   "cell_type": "markdown",
   "id": "01874d11-b570-4ce5-9e5b-853d70ed40e3",
   "metadata": {},
   "source": [
    "<a id=\"test\"></a>\n",
    "## Run generate_class(key)"
   ]
  },
  {
   "cell_type": "code",
   "execution_count": null,
   "id": "d10d432b-f023-4a4c-ae51-98990443667d",
   "metadata": {},
   "outputs": [],
   "source": [
    "from genedata.prep import Construct\n",
    "\n",
    "url = 'C:/Users/huben/projects/ChronoData/ChronoData/genedata/GEDCOM-registeries/v7/'\n",
    "print(Construct.generate_class(\"RESN\", url))"
   ]
  },
  {
   "cell_type": "markdown",
   "id": "234a8988-8b0d-4a2d-862d-8628dd3cd1d9",
   "metadata": {},
   "source": [
    "<a id=\"run\"></a>\n",
    "## Run generate_all_classes()"
   ]
  },
  {
   "cell_type": "code",
   "execution_count": null,
   "id": "dde93b50-d2d5-4f9a-9c51-8784e65f29f2",
   "metadata": {},
   "outputs": [],
   "source": [
    "from genedata.prep import Construct\n",
    "\n",
    "url = 'C:/Users/huben/projects/ChronoData/ChronoData/genedata/GEDCOM-registeries/v7/'\n",
    "print(Construct.generate_all_classes(url))"
   ]
  },
  {
   "cell_type": "markdown",
   "id": "50a6279d-fcd2-4a41-afe7-ddb21cff710e",
   "metadata": {},
   "source": [
    "<a id=\"build\"></a>\n",
    "## Run build_all"
   ]
  },
  {
   "cell_type": "code",
   "execution_count": null,
   "id": "14a22027-bf49-4c9e-94c2-8742c8e69e8e",
   "metadata": {},
   "outputs": [],
   "source": [
    "from genedata.prep import Construct\n",
    "\n",
    "source = 'https://github.com/FamilySearch/GEDCOM-registries'\n",
    "version = '7.0'\n",
    "url = 'C:/Users/huben/projects/ChronoData/ChronoData/genedata/GEDCOM-registeries/v7/'\n",
    "print(Construct.build_all(source, version, url))"
   ]
  },
  {
   "cell_type": "code",
   "execution_count": null,
   "id": "a03f3f62-15f8-456a-b71c-8164a89eefe4",
   "metadata": {},
   "outputs": [],
   "source": []
  }
 ],
 "metadata": {
  "kernelspec": {
   "display_name": "Python 3 (ipykernel)",
   "language": "python",
   "name": "python3"
  },
  "language_info": {
   "codemirror_mode": {
    "name": "ipython",
    "version": 3
   },
   "file_extension": ".py",
   "mimetype": "text/x-python",
   "name": "python",
   "nbconvert_exporter": "python",
   "pygments_lexer": "ipython3",
   "version": "3.13.2"
  }
 },
 "nbformat": 4,
 "nbformat_minor": 5
}
