# Load: ISO-639-1 and ISO-639-2 Data

This notebook loads the ISO 639-1 and 639-2 data from the Library of Congress data.

Steps:
- Download the data from the [Library of Congress](https://www.loc.gov/standards/iso639-2/ISO-639-2_utf-8.txt)
    to the loads directory.
- With this notebook load the data.
- There are two standards in this file.
- Copy and paste the resulting CODE dictionary into the chronodata/langs.py file.
- Copy and past the resulting CODE3 dictionary into the chronodata/langs.py CODE3 dictionary.





import csv

csv_data = ''
with open('ISO639-data.csv', newline='', encoding='utf-8', mode='r') as csvfile:
    data = csv.DictReader(csvfile, delimiter='|', fieldnames=['One', 'Two', 'Three', 'Four', 'Five'])
    for row in data:
        if row['Three'] != '':
            print(f'        \'{row['Four']}\': \'{row['Three']}\',')
    csvfile.close()





import csv

csv_data = ''
with open('ISO639-data.csv', newline='', encoding='utf-8', mode='r') as csvfile:
    data = csv.DictReader(csvfile, delimiter='|', fieldnames=['One', 'Two', 'Three', 'Four', 'Five'])
    for row in data:
        if row['Three'] != '':
            print(f'        \'{row['Four']}\': \'{row['One']}\',')
    csvfile.close()



