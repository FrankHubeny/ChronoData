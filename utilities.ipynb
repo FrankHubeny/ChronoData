{
 "cells": [
  {
   "cell_type": "markdown",
   "id": "db14a2a7-16fb-4520-b6a2-3a85c71c19af",
   "metadata": {},
   "source": [
    "# Utilities"
   ]
  },
  {
   "cell_type": "code",
   "execution_count": 1,
   "id": "3ed8a716-3555-46ae-92c0-067986483d3e",
   "metadata": {},
   "outputs": [
    {
     "name": "stdout",
     "output_type": "stream",
     "text": [
      "\n",
      "TagTuple(\n",
      "  value = AGE,\n",
      "  kind = stdTag,\n",
      "  supers = ['ADOP', 'BAPM', 'BARM', 'BASM', 'BIRT', 'BLES', 'BURI', 'CAST', 'CHR', 'CHRA', 'CONF', 'CREM', 'DEAT', 'DSCR', 'EDUC', 'EMIG', 'FCOM', 'GRAD', 'HUSB', 'IDNO', 'IMMI', 'INDI-CENS', 'INDI-EVEN', 'INDI-FACT', 'INDI-NCHI', 'INDI-RELI', 'INDI-RESI', 'INDI-TITL', 'NATI', 'NATU', 'NMR', 'OCCU', 'ORDN', 'PROB', 'PROP', 'RETI', 'SSN', 'WIFE', 'WILL'],\n",
      "  subs = ['PHRASE'],\n",
      "  required = [],\n",
      "  single = ['PHRASE'],\n",
      "  enumsets = [],\n",
      "  lang = 'en-US',\n",
      "  type = 'structure',\n",
      "  uri = 'https://gedcom.io/terms/v7/AGE',\n",
      "  fragment = '',\n",
      "  standard_tag = 'AGE',\n",
      "  extension_tags = None,\n",
      "  specification = '['Age at event', 'The age of the individual at the time an event occurred, or the age listed in the document.']',\n",
      "  label = Age at event,\n",
      "  help_text = ,\n",
      "  documentation = None,\n",
      "  payload = 'https://gedcom.io/terms/v7/type-Age',\n",
      "  substructures = {'https://gedcom.io/terms/v7/PHRASE': '{0:1}'},\n",
      "  superstructures = {'https://gedcom.io/terms/v7/ADOP': '{0:1}', 'https://gedcom.io/terms/v7/BAPM': '{0:1}', 'https://gedcom.io/terms/v7/BARM': '{0:1}', 'https://gedcom.io/terms/v7/BASM': '{0:1}', 'https://gedcom.io/terms/v7/BIRT': '{0:1}', 'https://gedcom.io/terms/v7/BLES': '{0:1}', 'https://gedcom.io/terms/v7/BURI': '{0:1}', 'https://gedcom.io/terms/v7/CAST': '{0:1}', 'https://gedcom.io/terms/v7/CHR': '{0:1}', 'https://gedcom.io/terms/v7/CHRA': '{0:1}', 'https://gedcom.io/terms/v7/CONF': '{0:1}', 'https://gedcom.io/terms/v7/CREM': '{0:1}', 'https://gedcom.io/terms/v7/DEAT': '{0:1}', 'https://gedcom.io/terms/v7/DSCR': '{0:1}', 'https://gedcom.io/terms/v7/EDUC': '{0:1}', 'https://gedcom.io/terms/v7/EMIG': '{0:1}', 'https://gedcom.io/terms/v7/FCOM': '{0:1}', 'https://gedcom.io/terms/v7/GRAD': '{0:1}', 'https://gedcom.io/terms/v7/HUSB': '{1:1}', 'https://gedcom.io/terms/v7/IDNO': '{0:1}', 'https://gedcom.io/terms/v7/IMMI': '{0:1}', 'https://gedcom.io/terms/v7/INDI-CENS': '{0:1}', 'https://gedcom.io/terms/v7/INDI-EVEN': '{0:1}', 'https://gedcom.io/terms/v7/INDI-FACT': '{0:1}', 'https://gedcom.io/terms/v7/INDI-NCHI': '{0:1}', 'https://gedcom.io/terms/v7/INDI-RELI': '{0:1}', 'https://gedcom.io/terms/v7/INDI-RESI': '{0:1}', 'https://gedcom.io/terms/v7/INDI-TITL': '{0:1}', 'https://gedcom.io/terms/v7/NATI': '{0:1}', 'https://gedcom.io/terms/v7/NATU': '{0:1}', 'https://gedcom.io/terms/v7/NMR': '{0:1}', 'https://gedcom.io/terms/v7/OCCU': '{0:1}', 'https://gedcom.io/terms/v7/ORDN': '{0:1}', 'https://gedcom.io/terms/v7/PROB': '{0:1}', 'https://gedcom.io/terms/v7/PROP': '{0:1}', 'https://gedcom.io/terms/v7/RETI': '{0:1}', 'https://gedcom.io/terms/v7/SSN': '{0:1}', 'https://gedcom.io/terms/v7/WIFE': '{1:1}', 'https://gedcom.io/terms/v7/WILL': '{0:1}'},\n",
      "  enumeration_values = [],\n",
      "  value_of = {},\n",
      "  calendars = None,\n",
      "  months = None,\n",
      "  epochs = None,\n",
      "  contact = 'https://gedcom.io/community/',\n",
      "  change_controller = '',\n",
      "  yamldict = {'lang': 'en-US', 'type': 'structure', 'uri': 'https://gedcom.io/terms/v7/AGE', 'standard tag': 'AGE', 'specification': ['Age at event', 'The age of the individual at the time an event occurred, or the age listed in the document.'], 'label': 'Age at event', 'payload': 'https://gedcom.io/terms/v7/type-Age', 'substructures': {'https://gedcom.io/terms/v7/PHRASE': '{0:1}'}, 'superstructures': {'https://gedcom.io/terms/v7/ADOP': '{0:1}', 'https://gedcom.io/terms/v7/BAPM': '{0:1}', 'https://gedcom.io/terms/v7/BARM': '{0:1}', 'https://gedcom.io/terms/v7/BASM': '{0:1}', 'https://gedcom.io/terms/v7/BIRT': '{0:1}', 'https://gedcom.io/terms/v7/BLES': '{0:1}', 'https://gedcom.io/terms/v7/BURI': '{0:1}', 'https://gedcom.io/terms/v7/CAST': '{0:1}', 'https://gedcom.io/terms/v7/CHR': '{0:1}', 'https://gedcom.io/terms/v7/CHRA': '{0:1}', 'https://gedcom.io/terms/v7/CONF': '{0:1}', 'https://gedcom.io/terms/v7/CREM': '{0:1}', 'https://gedcom.io/terms/v7/DEAT': '{0:1}', 'https://gedcom.io/terms/v7/DSCR': '{0:1}', 'https://gedcom.io/terms/v7/EDUC': '{0:1}', 'https://gedcom.io/terms/v7/EMIG': '{0:1}', 'https://gedcom.io/terms/v7/FCOM': '{0:1}', 'https://gedcom.io/terms/v7/GRAD': '{0:1}', 'https://gedcom.io/terms/v7/HUSB': '{1:1}', 'https://gedcom.io/terms/v7/IDNO': '{0:1}', 'https://gedcom.io/terms/v7/IMMI': '{0:1}', 'https://gedcom.io/terms/v7/INDI-CENS': '{0:1}', 'https://gedcom.io/terms/v7/INDI-EVEN': '{0:1}', 'https://gedcom.io/terms/v7/INDI-FACT': '{0:1}', 'https://gedcom.io/terms/v7/INDI-NCHI': '{0:1}', 'https://gedcom.io/terms/v7/INDI-RELI': '{0:1}', 'https://gedcom.io/terms/v7/INDI-RESI': '{0:1}', 'https://gedcom.io/terms/v7/INDI-TITL': '{0:1}', 'https://gedcom.io/terms/v7/NATI': '{0:1}', 'https://gedcom.io/terms/v7/NATU': '{0:1}', 'https://gedcom.io/terms/v7/NMR': '{0:1}', 'https://gedcom.io/terms/v7/OCCU': '{0:1}', 'https://gedcom.io/terms/v7/ORDN': '{0:1}', 'https://gedcom.io/terms/v7/PROB': '{0:1}', 'https://gedcom.io/terms/v7/PROP': '{0:1}', 'https://gedcom.io/terms/v7/RETI': '{0:1}', 'https://gedcom.io/terms/v7/SSN': '{0:1}', 'https://gedcom.io/terms/v7/WIFE': '{1:1}', 'https://gedcom.io/terms/v7/WILL': '{0:1}'}, 'contact': 'https://gedcom.io/community/'},\n",
      ")\n",
      "\n"
     ]
    }
   ],
   "source": [
    "from genedata.store import TagYaml\n",
    "\n",
    "t = TagYaml.get(url='https://gedcom.io/terms/v7/AGE')\n",
    "print(t.code())"
   ]
  },
  {
   "cell_type": "code",
   "execution_count": 11,
   "id": "fed2d5f1-0b79-4e81-9c58-4ad520b7f29b",
   "metadata": {},
   "outputs": [
    {
     "data": {
      "text/plain": [
       "'\\nEnumTag(Tag.M),(\\n)'"
      ]
     },
     "execution_count": 11,
     "metadata": {},
     "output_type": "execute_result"
    }
   ],
   "source": [
    "from genedata.store import EnumTag\n",
    "from genedata.gedcom import Tag, Sex\n",
    "\n",
    "e = EnumTag(Tag.M)\n",
    "e.code()"
   ]
  },
  {
   "cell_type": "code",
   "execution_count": 12,
   "id": "d1f9bd83-bd62-4537-9df2-15e1992a4f1a",
   "metadata": {},
   "outputs": [
    {
     "ename": "ValueError",
     "evalue": "The tag Tag.M is not in the list of valid tags.",
     "output_type": "error",
     "traceback": [
      "\u001b[1;31m---------------------------------------------------------------------------\u001b[0m",
      "\u001b[1;31mValueError\u001b[0m                                Traceback (most recent call last)",
      "Cell \u001b[1;32mIn[12], line 1\u001b[0m\n\u001b[1;32m----> 1\u001b[0m \u001b[43me\u001b[49m\u001b[38;5;241;43m.\u001b[39;49m\u001b[43mged\u001b[49m\u001b[43m(\u001b[49m\u001b[43m)\u001b[49m\n",
      "File \u001b[1;32m~\\projects\\ChronoData\\ChronoData\\genedata\\store.py:2103\u001b[0m, in \u001b[0;36mEnumTag.ged\u001b[1;34m(self, level)\u001b[0m\n\u001b[0;32m   2101\u001b[0m     enum_name \u001b[38;5;241m=\u001b[39m Tag\u001b[38;5;241m.\u001b[39mEVEN\n\u001b[0;32m   2102\u001b[0m \u001b[38;5;28;01melse\u001b[39;00m:\n\u001b[1;32m-> 2103\u001b[0m     \u001b[38;5;28;01mraise\u001b[39;00m \u001b[38;5;167;01mValueError\u001b[39;00m(Msg\u001b[38;5;241m.\u001b[39mNOT_VALID_ENUM\u001b[38;5;241m.\u001b[39mformat(\u001b[38;5;28mself\u001b[39m\u001b[38;5;241m.\u001b[39mtag))\n\u001b[0;32m   2104\u001b[0m \u001b[38;5;28;01mif\u001b[39;00m Checker\u001b[38;5;241m.\u001b[39mverify_ext(enum_name, \u001b[38;5;28mself\u001b[39m\u001b[38;5;241m.\u001b[39mtag_ext):\n\u001b[0;32m   2105\u001b[0m     lines \u001b[38;5;241m=\u001b[39m Tagger\u001b[38;5;241m.\u001b[39mstring(lines, level, enum_name, \u001b[38;5;28mself\u001b[39m\u001b[38;5;241m.\u001b[39mtag\u001b[38;5;241m.\u001b[39mvalue)\n",
      "\u001b[1;31mValueError\u001b[0m: The tag Tag.M is not in the list of valid tags."
     ]
    }
   ],
   "source": [
    "e.ged()"
   ]
  },
  {
   "cell_type": "code",
   "execution_count": 18,
   "id": "afaafd7f-214c-4cf2-aad4-ba4289667dbc",
   "metadata": {},
   "outputs": [
    {
     "name": "stdout",
     "output_type": "stream",
     "text": [
      "1 PHON 234567890\n",
      "1 PHON 333333\n",
      "1 FAX 22222\n",
      "1 SEX M\n",
      "\n"
     ]
    }
   ],
   "source": [
    "from genedata.store import Phone, Fax\n",
    "p = [Phone('234567890'), Phone('333333'), Fax('22222'), EnumTag(Sex.M)]\n",
    "s = [r.ged() for r in p]\n",
    "q = ''.join(s)\n",
    "print(q)"
   ]
  },
  {
   "cell_type": "code",
   "execution_count": null,
   "id": "5b92778d-e564-4f08-9327-96aa8370813f",
   "metadata": {},
   "outputs": [],
   "source": []
  }
 ],
 "metadata": {
  "kernelspec": {
   "display_name": "Python 3 (ipykernel)",
   "language": "python",
   "name": "python3"
  },
  "language_info": {
   "codemirror_mode": {
    "name": "ipython",
    "version": 3
   },
   "file_extension": ".py",
   "mimetype": "text/x-python",
   "name": "python",
   "nbconvert_exporter": "python",
   "pygments_lexer": "ipython3",
   "version": "3.13.2"
  }
 },
 "nbformat": 4,
 "nbformat_minor": 5
}
