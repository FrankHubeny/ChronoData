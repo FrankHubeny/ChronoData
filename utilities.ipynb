{
 "cells": [
  {
   "cell_type": "markdown",
   "id": "db14a2a7-16fb-4520-b6a2-3a85c71c19af",
   "metadata": {},
   "source": [
    "# Utilities"
   ]
  },
  {
   "cell_type": "code",
   "execution_count": 1,
   "id": "3ed8a716-3555-46ae-92c0-067986483d3e",
   "metadata": {},
   "outputs": [
    {
     "name": "stdout",
     "output_type": "stream",
     "text": [
      "\n",
      "TagTuple(\n",
      "  value = AGE,\n",
      "  kind = stdTag,\n",
      "  supers = ['ADOP', 'BAPM', 'BARM', 'BASM', 'BIRT', 'BLES', 'BURI', 'CAST', 'CHR', 'CHRA', 'CONF', 'CREM', 'DEAT', 'DSCR', 'EDUC', 'EMIG', 'FCOM', 'GRAD', 'HUSB', 'IDNO', 'IMMI', 'INDI-CENS', 'INDI-EVEN', 'INDI-FACT', 'INDI-NCHI', 'INDI-RELI', 'INDI-RESI', 'INDI-TITL', 'NATI', 'NATU', 'NMR', 'OCCU', 'ORDN', 'PROB', 'PROP', 'RETI', 'SSN', 'WIFE', 'WILL'],\n",
      "  subs = ['PHRASE'],\n",
      "  required = [],\n",
      "  single = ['PHRASE'],\n",
      "  enumsets = [],\n",
      "  lang = 'en-US',\n",
      "  type = 'structure',\n",
      "  uri = 'https://gedcom.io/terms/v7/AGE',\n",
      "  fragment = '',\n",
      "  standard_tag = 'AGE',\n",
      "  extension_tags = None,\n",
      "  specification = '['Age at event', 'The age of the individual at the time an event occurred, or the age listed in the document.']',\n",
      "  label = Age at event,\n",
      "  help_text = ,\n",
      "  documentation = None,\n",
      "  payload = 'https://gedcom.io/terms/v7/type-Age',\n",
      "  substructures = {'https://gedcom.io/terms/v7/PHRASE': '{0:1}'},\n",
      "  superstructures = {'https://gedcom.io/terms/v7/ADOP': '{0:1}', 'https://gedcom.io/terms/v7/BAPM': '{0:1}', 'https://gedcom.io/terms/v7/BARM': '{0:1}', 'https://gedcom.io/terms/v7/BASM': '{0:1}', 'https://gedcom.io/terms/v7/BIRT': '{0:1}', 'https://gedcom.io/terms/v7/BLES': '{0:1}', 'https://gedcom.io/terms/v7/BURI': '{0:1}', 'https://gedcom.io/terms/v7/CAST': '{0:1}', 'https://gedcom.io/terms/v7/CHR': '{0:1}', 'https://gedcom.io/terms/v7/CHRA': '{0:1}', 'https://gedcom.io/terms/v7/CONF': '{0:1}', 'https://gedcom.io/terms/v7/CREM': '{0:1}', 'https://gedcom.io/terms/v7/DEAT': '{0:1}', 'https://gedcom.io/terms/v7/DSCR': '{0:1}', 'https://gedcom.io/terms/v7/EDUC': '{0:1}', 'https://gedcom.io/terms/v7/EMIG': '{0:1}', 'https://gedcom.io/terms/v7/FCOM': '{0:1}', 'https://gedcom.io/terms/v7/GRAD': '{0:1}', 'https://gedcom.io/terms/v7/HUSB': '{1:1}', 'https://gedcom.io/terms/v7/IDNO': '{0:1}', 'https://gedcom.io/terms/v7/IMMI': '{0:1}', 'https://gedcom.io/terms/v7/INDI-CENS': '{0:1}', 'https://gedcom.io/terms/v7/INDI-EVEN': '{0:1}', 'https://gedcom.io/terms/v7/INDI-FACT': '{0:1}', 'https://gedcom.io/terms/v7/INDI-NCHI': '{0:1}', 'https://gedcom.io/terms/v7/INDI-RELI': '{0:1}', 'https://gedcom.io/terms/v7/INDI-RESI': '{0:1}', 'https://gedcom.io/terms/v7/INDI-TITL': '{0:1}', 'https://gedcom.io/terms/v7/NATI': '{0:1}', 'https://gedcom.io/terms/v7/NATU': '{0:1}', 'https://gedcom.io/terms/v7/NMR': '{0:1}', 'https://gedcom.io/terms/v7/OCCU': '{0:1}', 'https://gedcom.io/terms/v7/ORDN': '{0:1}', 'https://gedcom.io/terms/v7/PROB': '{0:1}', 'https://gedcom.io/terms/v7/PROP': '{0:1}', 'https://gedcom.io/terms/v7/RETI': '{0:1}', 'https://gedcom.io/terms/v7/SSN': '{0:1}', 'https://gedcom.io/terms/v7/WIFE': '{1:1}', 'https://gedcom.io/terms/v7/WILL': '{0:1}'},\n",
      "  enumeration_values = [],\n",
      "  value_of = {},\n",
      "  calendars = None,\n",
      "  months = None,\n",
      "  epochs = None,\n",
      "  contact = 'https://gedcom.io/community/',\n",
      "  change_controller = '',\n",
      "  yamldict = {'lang': 'en-US', 'type': 'structure', 'uri': 'https://gedcom.io/terms/v7/AGE', 'standard tag': 'AGE', 'specification': ['Age at event', 'The age of the individual at the time an event occurred, or the age listed in the document.'], 'label': 'Age at event', 'payload': 'https://gedcom.io/terms/v7/type-Age', 'substructures': {'https://gedcom.io/terms/v7/PHRASE': '{0:1}'}, 'superstructures': {'https://gedcom.io/terms/v7/ADOP': '{0:1}', 'https://gedcom.io/terms/v7/BAPM': '{0:1}', 'https://gedcom.io/terms/v7/BARM': '{0:1}', 'https://gedcom.io/terms/v7/BASM': '{0:1}', 'https://gedcom.io/terms/v7/BIRT': '{0:1}', 'https://gedcom.io/terms/v7/BLES': '{0:1}', 'https://gedcom.io/terms/v7/BURI': '{0:1}', 'https://gedcom.io/terms/v7/CAST': '{0:1}', 'https://gedcom.io/terms/v7/CHR': '{0:1}', 'https://gedcom.io/terms/v7/CHRA': '{0:1}', 'https://gedcom.io/terms/v7/CONF': '{0:1}', 'https://gedcom.io/terms/v7/CREM': '{0:1}', 'https://gedcom.io/terms/v7/DEAT': '{0:1}', 'https://gedcom.io/terms/v7/DSCR': '{0:1}', 'https://gedcom.io/terms/v7/EDUC': '{0:1}', 'https://gedcom.io/terms/v7/EMIG': '{0:1}', 'https://gedcom.io/terms/v7/FCOM': '{0:1}', 'https://gedcom.io/terms/v7/GRAD': '{0:1}', 'https://gedcom.io/terms/v7/HUSB': '{1:1}', 'https://gedcom.io/terms/v7/IDNO': '{0:1}', 'https://gedcom.io/terms/v7/IMMI': '{0:1}', 'https://gedcom.io/terms/v7/INDI-CENS': '{0:1}', 'https://gedcom.io/terms/v7/INDI-EVEN': '{0:1}', 'https://gedcom.io/terms/v7/INDI-FACT': '{0:1}', 'https://gedcom.io/terms/v7/INDI-NCHI': '{0:1}', 'https://gedcom.io/terms/v7/INDI-RELI': '{0:1}', 'https://gedcom.io/terms/v7/INDI-RESI': '{0:1}', 'https://gedcom.io/terms/v7/INDI-TITL': '{0:1}', 'https://gedcom.io/terms/v7/NATI': '{0:1}', 'https://gedcom.io/terms/v7/NATU': '{0:1}', 'https://gedcom.io/terms/v7/NMR': '{0:1}', 'https://gedcom.io/terms/v7/OCCU': '{0:1}', 'https://gedcom.io/terms/v7/ORDN': '{0:1}', 'https://gedcom.io/terms/v7/PROB': '{0:1}', 'https://gedcom.io/terms/v7/PROP': '{0:1}', 'https://gedcom.io/terms/v7/RETI': '{0:1}', 'https://gedcom.io/terms/v7/SSN': '{0:1}', 'https://gedcom.io/terms/v7/WIFE': '{1:1}', 'https://gedcom.io/terms/v7/WILL': '{0:1}'}, 'contact': 'https://gedcom.io/community/'},\n",
      ")\n",
      "\n"
     ]
    }
   ],
   "source": [
    "from genedata.store import TagYaml\n",
    "\n",
    "t = TagYaml.get(url='https://gedcom.io/terms/v7/AGE')\n",
    "print(t.code())"
   ]
  },
  {
   "cell_type": "code",
   "execution_count": null,
   "id": "fed2d5f1-0b79-4e81-9c58-4ad520b7f29b",
   "metadata": {},
   "outputs": [],
   "source": []
  }
 ],
 "metadata": {
  "kernelspec": {
   "display_name": "Python 3 (ipykernel)",
   "language": "python",
   "name": "python3"
  },
  "language_info": {
   "codemirror_mode": {
    "name": "ipython",
    "version": 3
   },
   "file_extension": ".py",
   "mimetype": "text/x-python",
   "name": "python",
   "nbconvert_exporter": "python",
   "pygments_lexer": "ipython3",
   "version": "3.13.2"
  }
 },
 "nbformat": 4,
 "nbformat_minor": 5
}
